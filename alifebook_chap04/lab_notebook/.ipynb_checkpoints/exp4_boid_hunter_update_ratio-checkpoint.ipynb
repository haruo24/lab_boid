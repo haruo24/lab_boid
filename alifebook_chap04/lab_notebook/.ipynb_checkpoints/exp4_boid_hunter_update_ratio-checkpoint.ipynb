{
 "cells": [
  {
   "cell_type": "markdown",
   "metadata": {},
   "source": [
    "# 実験4 非同期Boidモデルの観察\n",
    "\n",
    "ベースとなる\"Boidモデル\"と実験の背景は実験1(\"exp1_boid.ipynb\")を参照。  \n",
    "実験3(\"exp3_boid_hunter\")は群れの形成の事例として面白かったが、少し機械的な動きになった  \n",
    "のが不満だった。\n",
    "\n",
    "より”生命っぽい”動きにするにはどうするか？exp1~exp3の実験ではstep毎に、256個体全てを  \n",
    "（そのstepでかかる力を計算して、次に動く位置を）更新している。しかし現実世界において、全て  \n",
    "の個体が同じタイミングで（＝同期して）更新されることはないはず。そこでここでは、少し非同期性  \n",
    "を入れるため、1 stepで更新される個体数の割合をパラメータとして導入する（update_ratio） 。  \n",
    "\n",
    "たとえばupdate_ratio=0.7なら、1 stepで更新される個体数は、256 x 0.7 = 179個体。  \n",
    "選ばれる個体は毎stepランダムに決める。\n",
    "\n",
    "\n",
    "## 1. update ratioを変更してモデルの振る舞いを観察\n",
    "\n",
    "この実験では、update_ratioの違いによる振る舞いを見るために、boid-hunter modelの\"default\"  \n",
    "のパラメータセットに固定して、update_ratioを1.0, 0.9, 0.7, 0.5, 0.1に変更して群れの挙動を  \n",
    "観察してみる。\n",
    "\n",
    "### 1-1. update_ratio=1.0 (全て更新)\n",
    "全ての個体を全て更新しているので、このモデルは\"exp3_boid_huter\"のdefaultモデルと同じ。  \n",
    "蛇や竜のように（一直線になって）うねりながら外敵から逃げる群れが形成されている。\n",
    "\n",
    "### 1-2. update_ratio=0.9\n",
    "1step毎に90%の個体のみ更新される（10%は更新されない)。たかだか１０％更新しないだけだが、  \n",
    "実験1-1と比べて明らかに振る舞いが変化している。  \n",
    "\n",
    "1-1では一度（蛇のような）群れが形成されると、頭と尾の方向は固定されて、ひたすら外敵から逃げる  \n",
    "だけだった。一方このモデルでは、逃げるときは蛇のような群れが形成されるのは同じだが、頭と尾は  \n",
    "固定されずにダイナミックに変化する。\n",
    "\n",
    "期待どおり1-1のような機械的な動きでなく、よりダイナミックで生命的な変化を持つ群れを形成できた。\n",
    "\n",
    "### 1-3. update_ratio=0.7\n",
    "1step毎に70%の個体のみ更新される。1-2と比べると、群れがかなりファジーになっている。  \n",
    "また群れが複数に分化する傾向にある。動きもよりダイナミックになっている。\n",
    "\n",
    "### 1-4. update_ratio=0.5\n",
    "1step毎に50%の個体のみ更新される。1-3とそこまで大きな違いは見られない。\n",
    "\n",
    "\n",
    "### 1-5. update_ratio=0.1\n",
    "1step毎に10%の個体のみ更新される。予想通り、ほぼ群れの形成はなくなる。\n",
    "\n",
    "\n",
    "## 2. update ratio=0.7で、５つのモデルを観察\n",
    "\n",
    "### 2-1. default\n",
    "1-3と同様。\n",
    "\n",
    "### 2-2. torus\n",
    "Torusらしい縦に細長い群れが形成される。update_ratio=1と比べると（defaultの場合  \n",
    "と同様に）、群れが分化して、頭と尾がスイッチしたりと動きがダイナミックになっている。  \n",
    "\n",
    "### 2-3. dynamic parallel\n",
    "Dynamic parallelらしい速度の早い動きで外敵から逃げている。update_ratio=1と比べると、    \n",
    "群れの形成がファジーになっている。外敵から逃げる方向は共有するものの、個体同士の距離が  \n",
    "離れている。これは外力のない実験1(\"exp1_boid.ipynb\")の挙動に似ている。  \n",
    "\n",
    "### 2-4. swarm\n",
    "Swarmはupdate_ratio=1のときとあまり変化せず、大きな１つの群れを形成して外敵  \n",
    "から逃げている。おそらく個体同士が結びつく力が強いand/or広いため、多少の更新されない    \n",
    "個体がいても、群れから分離する前に群れに吸収されてしまうのだろう。  \n",
    "\n",
    "### 2-5. ball\n",
    "こちらも群れの集まり度合いが多少ファジーになっているものの、update_ratio=1のときとあまり  \n",
    "変化が見られない。Swarmと同様、個体同士の結びつきが強いand/or広いため、あまり  \n",
    "変化がないのだと推測される。\n",
    "\n",
    "\n",
    "## まとめ\n",
    "一番目の実験から、updateしない個体がいると、群れの柔軟性が上がることがわかる。もちろん  \n",
    "全員がそうだと群れの体をなさないので、少数の割合に抑えるのが良いようだ。  \n",
    "\n",
    "二つ目の実験から、update_ratio=1の挙動(\"exp3_boid_hunter.ipynb\"参照)と比べると、  \n",
    "明らかに群れの特性（設定されたパラメータ）が出ている。同期しない個体がいた方が、群れの  \n",
    "特性が出やすいという傾向は面白い。\n",
    "\n",
    "---\n",
    "\n",
    "こっからは妄想話ですが、、組織によせて考えてみると、「updateしない」ということは周りの空気を  \n",
    "読まない異質分子がいるとも解釈できますね。全体主義のように全員が同じ方向を向くより、  \n",
    "このような異質分子がいることで群れに柔軟さが出てくるようです。  \n",
    "\n",
    "これは進化の話とも似てる気がします。現状に最適化しすぎると、環境が変化したときに弱い。    \n",
    "実際、与えられたフレーム（外敵１体）だったら、update_ratio=1の同期した（１つの生物のように  \n",
    "振る舞う）群れはの方が効率的でしょう。しかし急に環境が変わった時（遮蔽物ができるとかライバ    \n",
    "ルが現れるとか）、現状のフレームに最適化しすぎた群れは（１つの生物のように振る舞うことが仇    \n",
    "となり）、もろいのではと推測できます。  \n",
    "\n",
    "よく多様性が大事とは言われますが、種の多様性だけでなく個体にも多様性があることが、  \n",
    "群れの生き残りに大事なのだという推察ができますね。"
   ]
  },
  {
   "cell_type": "code",
   "execution_count": 1,
   "metadata": {},
   "outputs": [],
   "source": [
    "from IPython.display import HTML\n",
    "\n",
    "def show_video(fn_video):\n",
    "    s =\"\"\"\n",
    "    <video width=\"400\" height=\"400\" controls>\n",
    "      <source src=\"%s\" type=\"video/mp4\">\n",
    "    </video>\n",
    "    \"\"\" % fn_video\n",
    "    return HTML(s)\n",
    "\n",
    "def show_videos(dir_video, fn_videos):\n",
    "    files_video = ['videos/%s/%s' % (dir_video, fn) for fn in fn_videos]\n",
    "    for i, fn_video in enumerate(files_video, 1):\n",
    "        print('\\n\\n%d: %s' % (i, fn_video))\n",
    "        display(show_video(fn_video))"
   ]
  },
  {
   "cell_type": "markdown",
   "metadata": {},
   "source": [
    "## 1. update ratioを変更してモデルの振る舞いを観察（default model）"
   ]
  },
  {
   "cell_type": "code",
   "execution_count": 2,
   "metadata": {
    "scrolled": false
   },
   "outputs": [
    {
     "name": "stdout",
     "output_type": "stream",
     "text": [
      "\n",
      "\n",
      "1: videos/boid_hunter_ur-vary/boid-hunter_default_3-2.mov\n"
     ]
    },
    {
     "data": {
      "text/html": [
       "\n",
       "    <video width=\"400\" height=\"400\" controls>\n",
       "      <source src=\"videos/boid_hunter_ur-vary/boid-hunter_default_3-2.mov\" type=\"video/mp4\">\n",
       "    </video>\n",
       "    "
      ],
      "text/plain": [
       "<IPython.core.display.HTML object>"
      ]
     },
     "metadata": {},
     "output_type": "display_data"
    },
    {
     "name": "stdout",
     "output_type": "stream",
     "text": [
      "\n",
      "\n",
      "2: videos/boid_hunter_ur-vary/boid-hunter-ur09_default.mov\n"
     ]
    },
    {
     "data": {
      "text/html": [
       "\n",
       "    <video width=\"400\" height=\"400\" controls>\n",
       "      <source src=\"videos/boid_hunter_ur-vary/boid-hunter-ur09_default.mov\" type=\"video/mp4\">\n",
       "    </video>\n",
       "    "
      ],
      "text/plain": [
       "<IPython.core.display.HTML object>"
      ]
     },
     "metadata": {},
     "output_type": "display_data"
    },
    {
     "name": "stdout",
     "output_type": "stream",
     "text": [
      "\n",
      "\n",
      "3: videos/boid_hunter_ur-vary/boid-hunter-ur07_default_4-1.mov\n"
     ]
    },
    {
     "data": {
      "text/html": [
       "\n",
       "    <video width=\"400\" height=\"400\" controls>\n",
       "      <source src=\"videos/boid_hunter_ur-vary/boid-hunter-ur07_default_4-1.mov\" type=\"video/mp4\">\n",
       "    </video>\n",
       "    "
      ],
      "text/plain": [
       "<IPython.core.display.HTML object>"
      ]
     },
     "metadata": {},
     "output_type": "display_data"
    },
    {
     "name": "stdout",
     "output_type": "stream",
     "text": [
      "\n",
      "\n",
      "4: videos/boid_hunter_ur-vary/boid-hunter-ur05_default.mov\n"
     ]
    },
    {
     "data": {
      "text/html": [
       "\n",
       "    <video width=\"400\" height=\"400\" controls>\n",
       "      <source src=\"videos/boid_hunter_ur-vary/boid-hunter-ur05_default.mov\" type=\"video/mp4\">\n",
       "    </video>\n",
       "    "
      ],
      "text/plain": [
       "<IPython.core.display.HTML object>"
      ]
     },
     "metadata": {},
     "output_type": "display_data"
    },
    {
     "name": "stdout",
     "output_type": "stream",
     "text": [
      "\n",
      "\n",
      "5: videos/boid_hunter_ur-vary/boid-hunter-ur01_default.mov\n"
     ]
    },
    {
     "data": {
      "text/html": [
       "\n",
       "    <video width=\"400\" height=\"400\" controls>\n",
       "      <source src=\"videos/boid_hunter_ur-vary/boid-hunter-ur01_default.mov\" type=\"video/mp4\">\n",
       "    </video>\n",
       "    "
      ],
      "text/plain": [
       "<IPython.core.display.HTML object>"
      ]
     },
     "metadata": {},
     "output_type": "display_data"
    }
   ],
   "source": [
    "dir_video = 'boid_hunter_ur-vary'\n",
    "fn_videos = ['boid-hunter_default_3-2.mov', 'boid-hunter-ur09_default.mov',\n",
    "                       'boid-hunter-ur07_default_4-1.mov', 'boid-hunter-ur05_default.mov',\n",
    "                       'boid-hunter-ur01_default.mov']\n",
    "show_videos(dir_video, fn_videos)"
   ]
  },
  {
   "cell_type": "code",
   "execution_count": null,
   "metadata": {},
   "outputs": [],
   "source": []
  },
  {
   "cell_type": "markdown",
   "metadata": {},
   "source": [
    "## 2. update ratio=0.7で、５つのモデルを観察"
   ]
  },
  {
   "cell_type": "code",
   "execution_count": 3,
   "metadata": {
    "scrolled": false
   },
   "outputs": [
    {
     "name": "stdout",
     "output_type": "stream",
     "text": [
      "\n",
      "\n",
      "1: videos/boid_hunter_ur07/boid-hunter-ur07_default_4-1.mov\n"
     ]
    },
    {
     "data": {
      "text/html": [
       "\n",
       "    <video width=\"400\" height=\"400\" controls>\n",
       "      <source src=\"videos/boid_hunter_ur07/boid-hunter-ur07_default_4-1.mov\" type=\"video/mp4\">\n",
       "    </video>\n",
       "    "
      ],
      "text/plain": [
       "<IPython.core.display.HTML object>"
      ]
     },
     "metadata": {},
     "output_type": "display_data"
    },
    {
     "name": "stdout",
     "output_type": "stream",
     "text": [
      "\n",
      "\n",
      "2: videos/boid_hunter_ur07/boid-hunter-ur07_torus_4-2.mov\n"
     ]
    },
    {
     "data": {
      "text/html": [
       "\n",
       "    <video width=\"400\" height=\"400\" controls>\n",
       "      <source src=\"videos/boid_hunter_ur07/boid-hunter-ur07_torus_4-2.mov\" type=\"video/mp4\">\n",
       "    </video>\n",
       "    "
      ],
      "text/plain": [
       "<IPython.core.display.HTML object>"
      ]
     },
     "metadata": {},
     "output_type": "display_data"
    },
    {
     "name": "stdout",
     "output_type": "stream",
     "text": [
      "\n",
      "\n",
      "3: videos/boid_hunter_ur07/boid-hunter-ur07_dynamic-pl_4-3.mov\n"
     ]
    },
    {
     "data": {
      "text/html": [
       "\n",
       "    <video width=\"400\" height=\"400\" controls>\n",
       "      <source src=\"videos/boid_hunter_ur07/boid-hunter-ur07_dynamic-pl_4-3.mov\" type=\"video/mp4\">\n",
       "    </video>\n",
       "    "
      ],
      "text/plain": [
       "<IPython.core.display.HTML object>"
      ]
     },
     "metadata": {},
     "output_type": "display_data"
    },
    {
     "name": "stdout",
     "output_type": "stream",
     "text": [
      "\n",
      "\n",
      "4: videos/boid_hunter_ur07/boid-hunter-ur07_swarm.mov\n"
     ]
    },
    {
     "data": {
      "text/html": [
       "\n",
       "    <video width=\"400\" height=\"400\" controls>\n",
       "      <source src=\"videos/boid_hunter_ur07/boid-hunter-ur07_swarm.mov\" type=\"video/mp4\">\n",
       "    </video>\n",
       "    "
      ],
      "text/plain": [
       "<IPython.core.display.HTML object>"
      ]
     },
     "metadata": {},
     "output_type": "display_data"
    },
    {
     "name": "stdout",
     "output_type": "stream",
     "text": [
      "\n",
      "\n",
      "5: videos/boid_hunter_ur07/boid-hunter-ur07_ball.mov\n"
     ]
    },
    {
     "data": {
      "text/html": [
       "\n",
       "    <video width=\"400\" height=\"400\" controls>\n",
       "      <source src=\"videos/boid_hunter_ur07/boid-hunter-ur07_ball.mov\" type=\"video/mp4\">\n",
       "    </video>\n",
       "    "
      ],
      "text/plain": [
       "<IPython.core.display.HTML object>"
      ]
     },
     "metadata": {},
     "output_type": "display_data"
    }
   ],
   "source": [
    "dir_video = 'boid_hunter_ur07'\n",
    "fn_videos = ['boid-hunter-ur07_default_4-1.mov', 'boid-hunter-ur07_torus_4-2.mov',\n",
    "                       'boid-hunter-ur07_dynamic-pl_4-3.mov', 'boid-hunter-ur07_swarm.mov',\n",
    "                       'boid-hunter-ur07_ball.mov']\n",
    "show_videos(dir_video, fn_videos)"
   ]
  },
  {
   "cell_type": "code",
   "execution_count": null,
   "metadata": {},
   "outputs": [],
   "source": []
  }
 ],
 "metadata": {
  "kernelspec": {
   "display_name": "Python 3",
   "language": "python",
   "name": "python3"
  },
  "language_info": {
   "codemirror_mode": {
    "name": "ipython",
    "version": 3
   },
   "file_extension": ".py",
   "mimetype": "text/x-python",
   "name": "python",
   "nbconvert_exporter": "python",
   "pygments_lexer": "ipython3",
   "version": "3.6.7"
  }
 },
 "nbformat": 4,
 "nbformat_minor": 2
}
