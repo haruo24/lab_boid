{
 "cells": [
  {
   "cell_type": "markdown",
   "metadata": {},
   "source": [
    "# 実験2 餌あり・Boidモデルの観察\n",
    "\n",
    "ベースとなる\"Boidモデル\"と実験の背景は実験1(\"exp1_boid.ipynb\")を参照。\n",
    "\n",
    "exp1_boid.ipynbのBoidモデルは256の個体のみ存在する空間で、個体同士の相互作用で群れが作られる  \n",
    "様子を観察した。一方、実際の自然界においては、群れの創発は生存戦略の中で生まれてきたと考え  \n",
    "らる。つまり群れができたのは、生き残る目的に適っていたからだろう。\n",
    "\n",
    "この実験では、（生存に重要な）餌を手に入れるという”目的”を導入して、群れの様子を観察する。  \n",
    "各個体の動きを計算する際、Boidモデルの力のほか「餌（＝赤玉）に向かって動く力」が加えられている。  \n",
    "餌は一定時間を過ぎると、ランダムな位置に移動するようになっている。  \n",
    "\n",
    "\n",
    "## 1. ５つのモデル（修正なし）\n",
    "\"exp1_boid.ipynb\"と同様のパラメータを持つ5つのケース（default, torus, dynamic-parallel, swarm, ball）  \n",
    "で、餌あり・Boidモデルを計算した（下記動画参照）。　　\n",
    "\n",
    "どのパラメータでも、ほぼ同じ動きに群れの動きが収束することがわかる。Boidモデルの群れが５者５様の  \n",
    "挙動を示したのとは対照的である。餌に向かう力が（他の力よりも）強かったために、似たような動きになった  \n",
    "と考えられる。  \n",
    "\n",
    "ちなみにswarmのみ、ほとんど餌に見向きもせず異なる振る舞いをしている。これは餌へ力よりも個体同士  \n",
    "が近づく力の方が強いからだろう。  \n",
    "\n",
    "\n",
    "## 2. 1のパラメータを若干修正したモデル\n",
    "1の実験では、餌へ引きつけられる力が強いために群れの挙動がほとんど似たようになったと考えられる。  \n",
    "この実験ではパラメータを変更して、考察を深めてみる。  \n",
    "\n",
    "### 2-1. zero-force\n",
    "1の考察では餌へ引きつけられる力が強いとあったが、では個体同士の相互作用は無視できるのだろうか？  \n",
    "ここでは、個体同士の相互作用を全て０にして実験した。動画の通り、1の場合と比べると\"群れ\"の形成は  \n",
    "希薄で、また餌への到達度合いも弱くなっている。\n",
    "\n",
    "この実験から、群れを作るには、個体同士の相互作用が（餌へ向かうという目的があっても）重要で、かつ  \n",
    "群れを作るという行為が、餌という目的を達成するために効率的な振る舞いであることがわかる。  \n",
    "\n",
    "### 2-2. swarm2\n",
    "餌に向かう力のパラメータを１の場合に比べて強くした。期待通り、（群れを作りながら）餌に向かって動く  \n",
    "ようになった。\n",
    "\n",
    "### 2-3. torus2\n",
    "餌に向かう力のパラメータを１の場合に比べて小さくした。期待通り、餌の影響が小さくなっている。\n",
    "\n",
    "\n",
    "## まとめ\n",
    "「餌に向かう」という力によって、群れの挙動が（パラメータに大きく依らず）ほぼ同じになった。  \n",
    "一方で個体同士の  相互作用も群れの形成には必要で、かつ群れの創発が餌に速く到達するという目的を  \n",
    "達成するために効率的な振る舞いであることがわかった。"
   ]
  },
  {
   "cell_type": "code",
   "execution_count": 1,
   "metadata": {},
   "outputs": [],
   "source": [
    "from IPython.display import HTML\n",
    "\n",
    "def show_video(fn_video):\n",
    "    s =\"\"\"\n",
    "    <video width=\"400\" height=\"400\" controls>\n",
    "      <source src=\"%s\" type=\"video/mp4\">\n",
    "    </video>\n",
    "    \"\"\" % fn_video\n",
    "    return HTML(s)\n",
    "\n",
    "def show_videos(dir_video, fn_videos):\n",
    "    files_video = ['videos/%s/%s' % (dir_video, fn) for fn in fn_videos]\n",
    "    for i, fn_video in enumerate(files_video, 1):\n",
    "        print('\\n\\n%d: %s' % (i, fn_video))\n",
    "        display(show_video(fn_video))"
   ]
  },
  {
   "cell_type": "markdown",
   "metadata": {},
   "source": [
    "## 1. 5つのモデル\n",
    "\n",
    "boid.ipynbの５つのモデルと同じパラメータに設定。餌へ向かう力のみ新たに追加。"
   ]
  },
  {
   "cell_type": "code",
   "execution_count": 2,
   "metadata": {
    "scrolled": false
   },
   "outputs": [
    {
     "name": "stdout",
     "output_type": "stream",
     "text": [
      "\n",
      "\n",
      "1: videos/boid_prey/boid-prey_default_2-1.mov\n"
     ]
    },
    {
     "data": {
      "text/html": [
       "\n",
       "    <video width=\"400\" height=\"400\" controls>\n",
       "      <source src=\"videos/boid_prey/boid-prey_default_2-1.mov\" type=\"video/mp4\">\n",
       "    </video>\n",
       "    "
      ],
      "text/plain": [
       "<IPython.core.display.HTML object>"
      ]
     },
     "metadata": {},
     "output_type": "display_data"
    },
    {
     "name": "stdout",
     "output_type": "stream",
     "text": [
      "\n",
      "\n",
      "2: videos/boid_prey/boid-prey_torus_2-2.mov\n"
     ]
    },
    {
     "data": {
      "text/html": [
       "\n",
       "    <video width=\"400\" height=\"400\" controls>\n",
       "      <source src=\"videos/boid_prey/boid-prey_torus_2-2.mov\" type=\"video/mp4\">\n",
       "    </video>\n",
       "    "
      ],
      "text/plain": [
       "<IPython.core.display.HTML object>"
      ]
     },
     "metadata": {},
     "output_type": "display_data"
    },
    {
     "name": "stdout",
     "output_type": "stream",
     "text": [
      "\n",
      "\n",
      "3: videos/boid_prey/boid-prey_dynamic-pl_2-3.mov\n"
     ]
    },
    {
     "data": {
      "text/html": [
       "\n",
       "    <video width=\"400\" height=\"400\" controls>\n",
       "      <source src=\"videos/boid_prey/boid-prey_dynamic-pl_2-3.mov\" type=\"video/mp4\">\n",
       "    </video>\n",
       "    "
      ],
      "text/plain": [
       "<IPython.core.display.HTML object>"
      ]
     },
     "metadata": {},
     "output_type": "display_data"
    },
    {
     "name": "stdout",
     "output_type": "stream",
     "text": [
      "\n",
      "\n",
      "4: videos/boid_prey/boid-prey_swarm_1.mov\n"
     ]
    },
    {
     "data": {
      "text/html": [
       "\n",
       "    <video width=\"400\" height=\"400\" controls>\n",
       "      <source src=\"videos/boid_prey/boid-prey_swarm_1.mov\" type=\"video/mp4\">\n",
       "    </video>\n",
       "    "
      ],
      "text/plain": [
       "<IPython.core.display.HTML object>"
      ]
     },
     "metadata": {},
     "output_type": "display_data"
    },
    {
     "name": "stdout",
     "output_type": "stream",
     "text": [
      "\n",
      "\n",
      "5: videos/boid_prey/boid-prey_ball.mov\n"
     ]
    },
    {
     "data": {
      "text/html": [
       "\n",
       "    <video width=\"400\" height=\"400\" controls>\n",
       "      <source src=\"videos/boid_prey/boid-prey_ball.mov\" type=\"video/mp4\">\n",
       "    </video>\n",
       "    "
      ],
      "text/plain": [
       "<IPython.core.display.HTML object>"
      ]
     },
     "metadata": {},
     "output_type": "display_data"
    }
   ],
   "source": [
    "dir_video = 'boid_prey'\n",
    "fn_videos = ['boid-prey_default_2-1.mov', 'boid-prey_torus_2-2.mov',\n",
    "                       'boid-prey_dynamic-pl_2-3.mov', 'boid-prey_swarm_1.mov',\n",
    "                       'boid-prey_ball.mov']\n",
    "show_videos(dir_video, fn_videos)"
   ]
  },
  {
   "cell_type": "markdown",
   "metadata": {},
   "source": [
    "## 2. 1のパラメータを若干修正したモデル（swarm, torus）\n",
    "\n",
    "zero-force\n",
    "-> 個体同士の相互作用の力をゼロにした。\n",
    "\n",
    "swarm model  \n",
    "-> 餌に向かう力を1よりも大きくしている。\n",
    "\n",
    "torus model  \n",
    "-> 餌に向かう力を1よりも小さくしている。"
   ]
  },
  {
   "cell_type": "code",
   "execution_count": 3,
   "metadata": {},
   "outputs": [
    {
     "name": "stdout",
     "output_type": "stream",
     "text": [
      "\n",
      "\n",
      "1: videos/boid_prey/boid-prey_zero-force.mov\n"
     ]
    },
    {
     "data": {
      "text/html": [
       "\n",
       "    <video width=\"400\" height=\"400\" controls>\n",
       "      <source src=\"videos/boid_prey/boid-prey_zero-force.mov\" type=\"video/mp4\">\n",
       "    </video>\n",
       "    "
      ],
      "text/plain": [
       "<IPython.core.display.HTML object>"
      ]
     },
     "metadata": {},
     "output_type": "display_data"
    },
    {
     "name": "stdout",
     "output_type": "stream",
     "text": [
      "\n",
      "\n",
      "2: videos/boid_prey/boid-prey_swarm_2.mov\n"
     ]
    },
    {
     "data": {
      "text/html": [
       "\n",
       "    <video width=\"400\" height=\"400\" controls>\n",
       "      <source src=\"videos/boid_prey/boid-prey_swarm_2.mov\" type=\"video/mp4\">\n",
       "    </video>\n",
       "    "
      ],
      "text/plain": [
       "<IPython.core.display.HTML object>"
      ]
     },
     "metadata": {},
     "output_type": "display_data"
    },
    {
     "name": "stdout",
     "output_type": "stream",
     "text": [
      "\n",
      "\n",
      "3: videos/boid_prey/boid-prey_torus_2.mov\n"
     ]
    },
    {
     "data": {
      "text/html": [
       "\n",
       "    <video width=\"400\" height=\"400\" controls>\n",
       "      <source src=\"videos/boid_prey/boid-prey_torus_2.mov\" type=\"video/mp4\">\n",
       "    </video>\n",
       "    "
      ],
      "text/plain": [
       "<IPython.core.display.HTML object>"
      ]
     },
     "metadata": {},
     "output_type": "display_data"
    }
   ],
   "source": [
    "dir_video = 'boid_prey'\n",
    "fn_videos = ['boid-prey_zero-force.mov',  'boid-prey_swarm_2.mov', 'boid-prey_torus_2.mov']\n",
    "show_videos(dir_video, fn_videos)"
   ]
  },
  {
   "cell_type": "code",
   "execution_count": null,
   "metadata": {},
   "outputs": [],
   "source": []
  }
 ],
 "metadata": {
  "kernelspec": {
   "display_name": "Python 3",
   "language": "python",
   "name": "python3"
  },
  "language_info": {
   "codemirror_mode": {
    "name": "ipython",
    "version": 3
   },
   "file_extension": ".py",
   "mimetype": "text/x-python",
   "name": "python",
   "nbconvert_exporter": "python",
   "pygments_lexer": "ipython3",
   "version": "3.6.7"
  }
 },
 "nbformat": 4,
 "nbformat_minor": 2
}
