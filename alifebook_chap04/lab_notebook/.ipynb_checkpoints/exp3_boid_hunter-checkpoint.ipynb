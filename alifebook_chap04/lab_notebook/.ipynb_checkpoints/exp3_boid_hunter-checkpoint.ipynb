{
 "cells": [
  {
   "cell_type": "markdown",
   "metadata": {},
   "source": [
    "# 実験3 外敵あり・Boidモデルの観察\n",
    "\n",
    "ベースとなる\"Boidモデル\"と実験の背景は実験1(\"exp1_boid.ipynb\")を参照。  \n",
    "実験2(\"exp2_boid_prey.ipynb\"）では、餌（ある目標に向かって動く力）を与えたが、  \n",
    "この実験３では逆に、外敵（ある目標から逃げる力）を加えた場合を考える。  \n",
    "\n",
    "## 1. 餌あり・Boidモデル（符号反転）\n",
    "実験2の餌に向かう力を絶対値は同じで符号だけ反転させた。動画を見ると、たしかに  \n",
    "赤玉を避けるような動きになっている。ただ赤玉がほぼ動かないため、ほとんど\"exp1_boid.ipynb\"   \n",
    "と同じふるまいになっており、あまり面白くない（笑）  \n",
    "\n",
    "\n",
    "## 2. 外敵あり・Boidモデル\n",
    "1ではあまり面白くないので、外敵が付近の個体を追いかけるようにコードを修正した。  \n",
    "\"exp1_boid.ipynb\"と同様のパラメータを持つ5つのケース（default, torus, dynamic-parallel, swarm, ball）  \n",
    "で、餌あり・Boidモデルを計算した（下記動画参照）。　　\n",
    "\n",
    "結果、どのモデルにおいても、蛇のように縦長に群れを作って逃げる群れが形成された。   \n",
    "これは\"exp2_boid_prey.ipynb\"の実験で、餌へ向かう力が（モデル毎のパラメータセットの違いを吸収して）  \n",
    "各モデルで似たような振る舞いの群れを形成したのと似ている。  ballは他のモデルと比べて群れに膨らみがあるが、　　\n",
    "これは相対的に分離する力が強いためだと思われる。  \n",
    "\n",
    "面白い挙動が観察できたが、少し規則的に動きすぎて生命というより機械的に動いているように見える。  \n",
    "まぁ実際、機械的に（アルゴリズムに従って）動かしているので当たり前という話だけど。。\n",
    "\n",
    "## 3. 外敵あり・Boidモデル（外敵ｘ２）\n",
    "外敵を1体から２体に増やした。何か面白い振る舞いが現れるかと期待したが、外敵１体の場合と比べて、  \n",
    "とりたてて大きな違いはなかった。残念。。\n",
    "\n",
    "\n",
    "## まとめ\n",
    "この実験とexp2_boid_prey.ipynb\"の実験を合わせると、外力~共通の目的があることで、  \n",
    "相互作用の持つ個体群は（目的に向かって動く）１つの生き物のように振る舞う。\n",
    "\n",
    "個人的に大事だなと思うのは「パラメータの違いを吸収する」という点だと思う。  \n",
    "共通の目的がない\"exp1_boid.ipynb\"の実験では、色々な振る舞いを見せていた５つのモデルが、  \n",
    "共通の目的が加わることで似たような挙動に収束する。\n",
    "\n",
    "現実世界においては実験のように個体が全く同じパラメータを持つことはないだろう。  \n",
    "それでも群れが問題なく形成されるのは、\"exp2_boid_prey.ipynb\"と\"exp3_boid_hunter.ipynb\"  \n",
    "で見たように、共通の目的（外力）がパラメータの違いを吸収して群れの形成を促すからだと思われる。\n"
   ]
  },
  {
   "cell_type": "code",
   "execution_count": 1,
   "metadata": {},
   "outputs": [],
   "source": [
    "from IPython.display import HTML\n",
    "\n",
    "def show_video(fn_video):\n",
    "    s =\"\"\"\n",
    "    <video width=\"400\" height=\"400\" controls>\n",
    "      <source src=\"%s\" type=\"video/mp4\">\n",
    "    </video>\n",
    "    \"\"\" % fn_video\n",
    "    return HTML(s)\n",
    "\n",
    "def show_videos(dir_video, fn_videos):\n",
    "    files_video = ['videos/%s/%s' % (dir_video, fn) for fn in fn_videos]\n",
    "    for i, fn_video in enumerate(files_video, 1):\n",
    "        print('\\n\\n%d: %s' % (i, fn_video))\n",
    "        display(show_video(fn_video))"
   ]
  },
  {
   "cell_type": "markdown",
   "metadata": {},
   "source": [
    "## 1. 餌あり・Boidモデル（符号反転）"
   ]
  },
  {
   "cell_type": "code",
   "execution_count": 2,
   "metadata": {},
   "outputs": [
    {
     "name": "stdout",
     "output_type": "stream",
     "text": [
      "\n",
      "\n",
      "1: videos/boid_prey/boid-prey_invert-default.mov\n"
     ]
    },
    {
     "data": {
      "text/html": [
       "\n",
       "    <video width=\"400\" height=\"400\" controls>\n",
       "      <source src=\"videos/boid_prey/boid-prey_invert-default.mov\" type=\"video/mp4\">\n",
       "    </video>\n",
       "    "
      ],
      "text/plain": [
       "<IPython.core.display.HTML object>"
      ]
     },
     "metadata": {},
     "output_type": "display_data"
    },
    {
     "name": "stdout",
     "output_type": "stream",
     "text": [
      "\n",
      "\n",
      "2: videos/boid_prey/boid-prey_invert-torus_3-1.mov\n"
     ]
    },
    {
     "data": {
      "text/html": [
       "\n",
       "    <video width=\"400\" height=\"400\" controls>\n",
       "      <source src=\"videos/boid_prey/boid-prey_invert-torus_3-1.mov\" type=\"video/mp4\">\n",
       "    </video>\n",
       "    "
      ],
      "text/plain": [
       "<IPython.core.display.HTML object>"
      ]
     },
     "metadata": {},
     "output_type": "display_data"
    }
   ],
   "source": [
    "dir_video = 'boid_prey'\n",
    "fn_videos = ['boid-prey_invert-default.mov', 'boid-prey_invert-torus_3-1.mov']\n",
    "show_videos(dir_video, fn_videos)"
   ]
  },
  {
   "cell_type": "code",
   "execution_count": null,
   "metadata": {},
   "outputs": [],
   "source": []
  },
  {
   "cell_type": "markdown",
   "metadata": {},
   "source": [
    "## 2. 外敵あり・Boidモデル"
   ]
  },
  {
   "cell_type": "code",
   "execution_count": 3,
   "metadata": {
    "scrolled": false
   },
   "outputs": [
    {
     "name": "stdout",
     "output_type": "stream",
     "text": [
      "\n",
      "\n",
      "1: videos/boid_hunter/boid-hunter_default_3-2.mov\n"
     ]
    },
    {
     "data": {
      "text/html": [
       "\n",
       "    <video width=\"400\" height=\"400\" controls>\n",
       "      <source src=\"videos/boid_hunter/boid-hunter_default_3-2.mov\" type=\"video/mp4\">\n",
       "    </video>\n",
       "    "
      ],
      "text/plain": [
       "<IPython.core.display.HTML object>"
      ]
     },
     "metadata": {},
     "output_type": "display_data"
    },
    {
     "name": "stdout",
     "output_type": "stream",
     "text": [
      "\n",
      "\n",
      "2: videos/boid_hunter/boid-hunter_torus_3-3.mov\n"
     ]
    },
    {
     "data": {
      "text/html": [
       "\n",
       "    <video width=\"400\" height=\"400\" controls>\n",
       "      <source src=\"videos/boid_hunter/boid-hunter_torus_3-3.mov\" type=\"video/mp4\">\n",
       "    </video>\n",
       "    "
      ],
      "text/plain": [
       "<IPython.core.display.HTML object>"
      ]
     },
     "metadata": {},
     "output_type": "display_data"
    },
    {
     "name": "stdout",
     "output_type": "stream",
     "text": [
      "\n",
      "\n",
      "3: videos/boid_hunter/boid-hunter_dynamic-pl_3-4.mov\n"
     ]
    },
    {
     "data": {
      "text/html": [
       "\n",
       "    <video width=\"400\" height=\"400\" controls>\n",
       "      <source src=\"videos/boid_hunter/boid-hunter_dynamic-pl_3-4.mov\" type=\"video/mp4\">\n",
       "    </video>\n",
       "    "
      ],
      "text/plain": [
       "<IPython.core.display.HTML object>"
      ]
     },
     "metadata": {},
     "output_type": "display_data"
    },
    {
     "name": "stdout",
     "output_type": "stream",
     "text": [
      "\n",
      "\n",
      "4: videos/boid_hunter/boid-hunter_swarm.mov\n"
     ]
    },
    {
     "data": {
      "text/html": [
       "\n",
       "    <video width=\"400\" height=\"400\" controls>\n",
       "      <source src=\"videos/boid_hunter/boid-hunter_swarm.mov\" type=\"video/mp4\">\n",
       "    </video>\n",
       "    "
      ],
      "text/plain": [
       "<IPython.core.display.HTML object>"
      ]
     },
     "metadata": {},
     "output_type": "display_data"
    },
    {
     "name": "stdout",
     "output_type": "stream",
     "text": [
      "\n",
      "\n",
      "5: videos/boid_hunter/boid-hunter_ball.mov\n"
     ]
    },
    {
     "data": {
      "text/html": [
       "\n",
       "    <video width=\"400\" height=\"400\" controls>\n",
       "      <source src=\"videos/boid_hunter/boid-hunter_ball.mov\" type=\"video/mp4\">\n",
       "    </video>\n",
       "    "
      ],
      "text/plain": [
       "<IPython.core.display.HTML object>"
      ]
     },
     "metadata": {},
     "output_type": "display_data"
    }
   ],
   "source": [
    "dir_video = 'boid_hunter'\n",
    "fn_videos = ['boid-hunter_default_3-2.mov', 'boid-hunter_torus_3-3.mov',\n",
    "                       'boid-hunter_dynamic-pl_3-4.mov', 'boid-hunter_swarm.mov', 'boid-hunter_ball.mov']\n",
    "show_videos(dir_video, fn_videos)"
   ]
  },
  {
   "cell_type": "code",
   "execution_count": null,
   "metadata": {},
   "outputs": [],
   "source": []
  },
  {
   "cell_type": "markdown",
   "metadata": {},
   "source": [
    "## 3. 外敵あり・Boidモデル（外敵ｘ２）"
   ]
  },
  {
   "cell_type": "code",
   "execution_count": 4,
   "metadata": {
    "scrolled": false
   },
   "outputs": [
    {
     "name": "stdout",
     "output_type": "stream",
     "text": [
      "\n",
      "\n",
      "1: videos/boid_hunter/boid-hunter-n2_default.mov\n"
     ]
    },
    {
     "data": {
      "text/html": [
       "\n",
       "    <video width=\"400\" height=\"400\" controls>\n",
       "      <source src=\"videos/boid_hunter/boid-hunter-n2_default.mov\" type=\"video/mp4\">\n",
       "    </video>\n",
       "    "
      ],
      "text/plain": [
       "<IPython.core.display.HTML object>"
      ]
     },
     "metadata": {},
     "output_type": "display_data"
    },
    {
     "name": "stdout",
     "output_type": "stream",
     "text": [
      "\n",
      "\n",
      "2: videos/boid_hunter/boid-hunter-n2_torus.mov\n"
     ]
    },
    {
     "data": {
      "text/html": [
       "\n",
       "    <video width=\"400\" height=\"400\" controls>\n",
       "      <source src=\"videos/boid_hunter/boid-hunter-n2_torus.mov\" type=\"video/mp4\">\n",
       "    </video>\n",
       "    "
      ],
      "text/plain": [
       "<IPython.core.display.HTML object>"
      ]
     },
     "metadata": {},
     "output_type": "display_data"
    },
    {
     "name": "stdout",
     "output_type": "stream",
     "text": [
      "\n",
      "\n",
      "3: videos/boid_hunter/boid-hunter-n2_dynamic-pl.mov\n"
     ]
    },
    {
     "data": {
      "text/html": [
       "\n",
       "    <video width=\"400\" height=\"400\" controls>\n",
       "      <source src=\"videos/boid_hunter/boid-hunter-n2_dynamic-pl.mov\" type=\"video/mp4\">\n",
       "    </video>\n",
       "    "
      ],
      "text/plain": [
       "<IPython.core.display.HTML object>"
      ]
     },
     "metadata": {},
     "output_type": "display_data"
    },
    {
     "name": "stdout",
     "output_type": "stream",
     "text": [
      "\n",
      "\n",
      "4: videos/boid_hunter/boid-hunter-n2_swarm.mov\n"
     ]
    },
    {
     "data": {
      "text/html": [
       "\n",
       "    <video width=\"400\" height=\"400\" controls>\n",
       "      <source src=\"videos/boid_hunter/boid-hunter-n2_swarm.mov\" type=\"video/mp4\">\n",
       "    </video>\n",
       "    "
      ],
      "text/plain": [
       "<IPython.core.display.HTML object>"
      ]
     },
     "metadata": {},
     "output_type": "display_data"
    },
    {
     "name": "stdout",
     "output_type": "stream",
     "text": [
      "\n",
      "\n",
      "5: videos/boid_hunter/boid-hunter-n2_ball.mov\n"
     ]
    },
    {
     "data": {
      "text/html": [
       "\n",
       "    <video width=\"400\" height=\"400\" controls>\n",
       "      <source src=\"videos/boid_hunter/boid-hunter-n2_ball.mov\" type=\"video/mp4\">\n",
       "    </video>\n",
       "    "
      ],
      "text/plain": [
       "<IPython.core.display.HTML object>"
      ]
     },
     "metadata": {},
     "output_type": "display_data"
    }
   ],
   "source": [
    "dir_video = 'boid_hunter'\n",
    "fn_videos = ['boid-hunter-n2_default.mov', 'boid-hunter-n2_torus.mov',\n",
    "                       'boid-hunter-n2_dynamic-pl.mov', 'boid-hunter-n2_swarm.mov', 'boid-hunter-n2_ball.mov']\n",
    "show_videos(dir_video, fn_videos)"
   ]
  },
  {
   "cell_type": "code",
   "execution_count": null,
   "metadata": {},
   "outputs": [],
   "source": []
  }
 ],
 "metadata": {
  "kernelspec": {
   "display_name": "Python 3",
   "language": "python",
   "name": "python3"
  },
  "language_info": {
   "codemirror_mode": {
    "name": "ipython",
    "version": 3
   },
   "file_extension": ".py",
   "mimetype": "text/x-python",
   "name": "python",
   "nbconvert_exporter": "python",
   "pygments_lexer": "ipython3",
   "version": "3.6.7"
  }
 },
 "nbformat": 4,
 "nbformat_minor": 2
}
