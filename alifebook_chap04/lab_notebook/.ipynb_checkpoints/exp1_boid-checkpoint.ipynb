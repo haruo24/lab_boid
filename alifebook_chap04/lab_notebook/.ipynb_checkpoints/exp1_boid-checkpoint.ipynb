{
 "cells": [
  {
   "cell_type": "markdown",
   "metadata": {},
   "source": [
    "# 実験1 Boidモデルの観察\n",
    "\n",
    "書籍[「作って動かすALife」](https://www.amazon.co.jp/%E4%BD%9C%E3%81%A3%E3%81%A6%E5%8B%95%E3%81%8B%E3%81%99ALife-%E2%80%95%E5%AE%9F%E8%A3%85%E3%82%92%E9%80%9A%E3%81%97%E3%81%9F%E4%BA%BA%E5%B7%A5%E7%94%9F%E5%91%BD%E3%83%A2%E3%83%87%E3%83%AB%E7%90%86%E8%AB%96%E5%85%A5%E9%96%80-%E5%B2%A1-%E7%91%9E%E8%B5%B7/dp/4873118476/ref=sr_1_1?adgrpid=53626124112&amp;hvadid=259131798438&amp;hvdev=c&amp;hvlocphy=1009308&amp;hvnetw=g&amp;hvpos=1t1&amp;hvqmt=e&amp;hvrand=8550447354966873735&amp;hvtargid=kwd-498809778674&amp;jp-ad-ap=0&amp;keywords=%E4%BD%9C%E3%81%A3%E3%81%A6%E5%8B%95%E3%81%8B%E3%81%99alife&amp;qid=1554809467&amp;s=gateway&amp;sr=8-1)の第4章のパラメータを使って、Boidモデルを作成して実行した。  \n",
    "Boidモデルの基本的な説明は、上記の書籍か[Blog](XXX)を参照のこと。  \n",
    "ざっくり言えば、モデルの３つの力（結合、分離、整列）をパラメータとして調整することで、振る舞いの  \n",
    "異なる「群れ」ができるので、色々と変えてみて「群れ」の振る舞いを観察していみる。\n",
    "\n",
    "----\n",
    "\n",
    "以下、5種類の群れの挙動を観察して考察する（ビデオタイトルにある1~5が、下記番号に対応）。\n",
    "\n",
    "### 1. default\n",
    "大きな特徴はない。ある程度、個体同士の動きに連動は見えるが、「群れ」というほどの振る舞いは見えない。  \n",
    "\n",
    "### 2. torus\n",
    "1のパラメータから、結合と整列の力の大きさは弱く、しかし力の及ぶ範囲は広く取るように変更。  \n",
    "Torusと呼ばれるタイプの群れ。その名の通り、円弧を描いた運動になる。広く弱くつながり＆弱く整列することで、  \n",
    "このような円弧の群れができるようだ。  \n",
    "\n",
    "### 3. dynamic parallel\n",
    "1のパラメータと比べると、整列の力の及ぶ範囲が広い。Dynamic parallelと呼ばれるタイプで、動画の40秒すぎから  \n",
    "複数の群れの塊ができて、それらが高速で移動するようになっている。群れの塊はできるので結合の力が強いのかと  \n",
    "思いきやそうではないタイプの群れ。結合の力を強くしても群れの塊はできるが、塊の中心に動く力が強いため素早い  \n",
    "移動にはならない（4, 5参照）。整列の力をdominantにすることで、このようにdynamicに動く群れになるようだ。  \n",
    "\n",
    "### 4. swarm\n",
    "1のパラメータに比べ、結合の力を強くして、分離・整列の力を弱めている。個体同士が密集しながら移動して、  \n",
    "群れというより、まるで１つの生き物のように移動する。よく見ると、個々の個体は（結合の力が強いため）   \n",
    "群れの中心  に引き戻されるような動きをしている。そのため、3の群れと比べると移動速度がかなり遅くなっている。\n",
    "\n",
    "### 5. ball\n",
    "1のパラメータと比べ、結合する力そのものは弱いが、結合が及ぶ範囲と角度を大きくとっている。  \n",
    "全く移動しない「ball」のような群れになってしまった。4では結合する力は強いものの、力の及び範囲はそこまで大きくない  \n",
    "ため、群れの中心から外れようとする個体もいて、それに引きずられる形で群れが移動していると考えられるが、  \n",
    "ここでは結合の力が広く及ぶため、個体が群れから逃げることができないようだ。  \n",
    "\n",
    "「求心力が広く及ぶが故にどこにもいけない」というのは何か考えさせられるところがりますね（笑）\n"
   ]
  },
  {
   "cell_type": "code",
   "execution_count": 1,
   "metadata": {},
   "outputs": [],
   "source": [
    "from IPython.display import HTML\n",
    "\n",
    "def show_video(fn_video):\n",
    "    s =\"\"\"\n",
    "    <video width=\"400\" height=\"400\" controls>\n",
    "      <source src=\"%s\" type=\"video/mp4\">\n",
    "    </video>\n",
    "    \"\"\" % fn_video\n",
    "    return HTML(s)\n",
    "\n",
    "def show_videos(dir_video, fn_videos):\n",
    "    files_video = ['videos/%s/%s' % (dir_video, fn) for fn in fn_videos]\n",
    "    for i, fn_video in enumerate(files_video, 1):\n",
    "        print('\\n\\n%d: %s' % (i, fn_video))\n",
    "        display(show_video(fn_video))"
   ]
  },
  {
   "cell_type": "code",
   "execution_count": 2,
   "metadata": {
    "scrolled": false
   },
   "outputs": [
    {
     "name": "stdout",
     "output_type": "stream",
     "text": [
      "\n",
      "\n",
      "1: videos/boid/boid_default_1-1.mov\n"
     ]
    },
    {
     "data": {
      "text/html": [
       "\n",
       "    <video width=\"400\" height=\"400\" controls>\n",
       "      <source src=\"videos/boid/boid_default_1-1.mov\" type=\"video/mp4\">\n",
       "    </video>\n",
       "    "
      ],
      "text/plain": [
       "<IPython.core.display.HTML object>"
      ]
     },
     "metadata": {},
     "output_type": "display_data"
    },
    {
     "name": "stdout",
     "output_type": "stream",
     "text": [
      "\n",
      "\n",
      "2: videos/boid/boid_torus_1-2.mov\n"
     ]
    },
    {
     "data": {
      "text/html": [
       "\n",
       "    <video width=\"400\" height=\"400\" controls>\n",
       "      <source src=\"videos/boid/boid_torus_1-2.mov\" type=\"video/mp4\">\n",
       "    </video>\n",
       "    "
      ],
      "text/plain": [
       "<IPython.core.display.HTML object>"
      ]
     },
     "metadata": {},
     "output_type": "display_data"
    },
    {
     "name": "stdout",
     "output_type": "stream",
     "text": [
      "\n",
      "\n",
      "3: videos/boid/boid_dynamic-pl_1-3.mov\n"
     ]
    },
    {
     "data": {
      "text/html": [
       "\n",
       "    <video width=\"400\" height=\"400\" controls>\n",
       "      <source src=\"videos/boid/boid_dynamic-pl_1-3.mov\" type=\"video/mp4\">\n",
       "    </video>\n",
       "    "
      ],
      "text/plain": [
       "<IPython.core.display.HTML object>"
      ]
     },
     "metadata": {},
     "output_type": "display_data"
    },
    {
     "name": "stdout",
     "output_type": "stream",
     "text": [
      "\n",
      "\n",
      "4: videos/boid/boid_swarm.mov\n"
     ]
    },
    {
     "data": {
      "text/html": [
       "\n",
       "    <video width=\"400\" height=\"400\" controls>\n",
       "      <source src=\"videos/boid/boid_swarm.mov\" type=\"video/mp4\">\n",
       "    </video>\n",
       "    "
      ],
      "text/plain": [
       "<IPython.core.display.HTML object>"
      ]
     },
     "metadata": {},
     "output_type": "display_data"
    },
    {
     "name": "stdout",
     "output_type": "stream",
     "text": [
      "\n",
      "\n",
      "5: videos/boid/boid_ball.mov\n"
     ]
    },
    {
     "data": {
      "text/html": [
       "\n",
       "    <video width=\"400\" height=\"400\" controls>\n",
       "      <source src=\"videos/boid/boid_ball.mov\" type=\"video/mp4\">\n",
       "    </video>\n",
       "    "
      ],
      "text/plain": [
       "<IPython.core.display.HTML object>"
      ]
     },
     "metadata": {},
     "output_type": "display_data"
    }
   ],
   "source": [
    "dir_video = 'boid'\n",
    "fn_videos = ['boid_default_1-1.mov', 'boid_torus_1-2.mov',\n",
    "                       'boid_dynamic-pl_1-3.mov', 'boid_swarm.mov', 'boid_ball.mov']\n",
    "\n",
    "show_videos(dir_video, fn_videos)"
   ]
  },
  {
   "cell_type": "code",
   "execution_count": null,
   "metadata": {},
   "outputs": [],
   "source": []
  }
 ],
 "metadata": {
  "kernelspec": {
   "display_name": "Python 3",
   "language": "python",
   "name": "python3"
  },
  "language_info": {
   "codemirror_mode": {
    "name": "ipython",
    "version": 3
   },
   "file_extension": ".py",
   "mimetype": "text/x-python",
   "name": "python",
   "nbconvert_exporter": "python",
   "pygments_lexer": "ipython3",
   "version": "3.6.7"
  }
 },
 "nbformat": 4,
 "nbformat_minor": 2
}
